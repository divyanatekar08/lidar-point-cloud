{
 "cells": [
  {
   "cell_type": "markdown",
   "id": "6100e459-5c97-4e0a-9592-7a4e7ac8bbfb",
   "metadata": {},
   "source": [
    "## Four Corners program\n",
    "Name: Divya Natekar\n",
    "\n",
    "Net ID: dyn2009\n",
    "\n",
    "NYU ID: N19974330"
   ]
  },
  {
   "cell_type": "code",
   "execution_count": 1,
   "id": "0bacd31a-c06f-4b7e-a00f-755d73b4c99d",
   "metadata": {},
   "outputs": [],
   "source": [
    "import open3d as o3d\n",
    "import numpy as np\n",
    "from collections import defaultdict\n",
    "\n",
    "# Load the original point cloud\n",
    "file_path = \"jay-willoughby.ply\"\n",
    "pcd = o3d.io.read_point_cloud(file_path)\n",
    "points = np.asarray(pcd.points)\n",
    "\n",
    "if len(points) == 0:\n",
    "    raise ValueError(\"Loaded point cloud is empty!\")\n",
    "\n",
    "# Define scanner corners\n",
    "min_bound = pcd.get_min_bound()\n",
    "max_bound = pcd.get_max_bound()\n",
    "z_lift = 1.5\n",
    "\n",
    "scanner_positions = [\n",
    "    np.array([min_bound[0] + 1.0, min_bound[1] + 1.0, min_bound[2] + z_lift]),\n",
    "    np.array([max_bound[0] - 1.0, min_bound[1] + 1.0, min_bound[2] + z_lift]),\n",
    "    np.array([max_bound[0] - 1.0, max_bound[1] - 1.0, min_bound[2] + z_lift]),\n",
    "    np.array([min_bound[0] + 1.0, max_bound[1] - 1.0, min_bound[2] + z_lift])\n",
    "]\n",
    "\n",
    "for i, scanner_pos in enumerate(scanner_positions):\n",
    "    vectors = points - scanner_pos\n",
    "    norms = np.linalg.norm(vectors, axis=1)\n",
    "    unit_vectors = vectors / norms[:, None]\n",
    "\n",
    "    rounded_vectors = np.round(unit_vectors * 1000).astype(int)\n",
    "    direction_bins = defaultdict(list)\n",
    "    for idx, dir_vec in enumerate(rounded_vectors):\n",
    "        direction_bins[tuple(dir_vec)].append((idx, norms[idx]))\n",
    "\n",
    "    retain_indices = {max(bin, key=lambda x: x[1])[0] for bin in direction_bins.values()}\n",
    "    all_indices = set(range(len(points)))\n",
    "    removed_indices = list(all_indices - retain_indices)\n",
    "    retain_indices = list(retain_indices)\n",
    "\n",
    "    retained_pcd = pcd.select_by_index(retain_indices)\n",
    "    removed_pcd = pcd.select_by_index(removed_indices)\n",
    "\n",
    "    # Grayscale retained\n",
    "    grey = np.mean(np.asarray(retained_pcd.colors), axis=1)\n",
    "    retained_pcd.colors = o3d.utility.Vector3dVector(np.tile(grey[:, None], 3))\n",
    "    \n",
    "    # Green for removed\n",
    "    removed_pcd.paint_uniform_color([0, 1, 0])\n",
    "\n",
    "    o3d.io.write_point_cloud(f\"corner{i+1}_retained_final.ply\", retained_pcd)\n",
    "    o3d.io.write_point_cloud(f\"corner{i+1}_removed_final.ply\", removed_pcd)\n"
   ]
  }
 ],
 "metadata": {
  "kernelspec": {
   "display_name": "Python 3 (ipykernel)",
   "language": "python",
   "name": "python3"
  },
  "language_info": {
   "codemirror_mode": {
    "name": "ipython",
    "version": 3
   },
   "file_extension": ".py",
   "mimetype": "text/x-python",
   "name": "python",
   "nbconvert_exporter": "python",
   "pygments_lexer": "ipython3",
   "version": "3.12.7"
  }
 },
 "nbformat": 4,
 "nbformat_minor": 5
}
